{
 "cells": [
  {
   "cell_type": "code",
   "execution_count": 1,
   "metadata": {
    "hide_input": false
   },
   "outputs": [],
   "source": [
    "import requests\n",
    "import xml.etree.ElementTree as xml\n",
    "from IPython.display import HTML, display\n",
    "import eutils.client\n",
    "\n",
    "ec = eutils.client.Client()\n",
    "\n",
    "def get_nuccore_id(uid):\n",
    "    \"\"\"\n",
    "    Get nuccore id by its refseq id.\n",
    "    \"\"\"\n",
    "    url = 'https://eutils.ncbi.nlm.nih.gov/entrez/eutils/elink.fcgi'\n",
    "    params = {'dbfrom': 'assembly', 'db':'nuccore', 'retmode':'json', 'id': uid}\n",
    "    r = requests.get(url, params=params)\n",
    "    if r.status_code != 200:\n",
    "        raise Exception(\"Cant nuccore id for specified assembly\")\n",
    "    doc = r.json()['linksets'][0]['linksetdbs']\n",
    "    for link in doc:\n",
    "        if link['linkname'] == \"assembly_nuccore_refseq\":\n",
    "            return int(link['links'][0])\n",
    "    else:\n",
    "        return int(doc[0]['links'][0])\n",
    "\n",
    "def list_genes(nuc_id):\n",
    "    \"\"\"\n",
    "    List genes for specified organism nuccore id.\n",
    "    \"\"\"\n",
    "    url = 'https://eutils.ncbi.nlm.nih.gov/entrez/eutils/elink.fcgi'\n",
    "    params = {'dbfrom':'nuccore', 'db': 'gene', 'retmode': 'json', 'id':nuc_id}\n",
    "    r = requests.get(url, params=params)\n",
    "    if r.status_code != 200:\n",
    "        raise Exception(\"Cant find annotation\")\n",
    "    return r.json()['linksets'][0]['linksetdbs'][0]['links']"
   ]
  },
  {
   "cell_type": "code",
   "execution_count": 2,
   "metadata": {
    "hide_input": false
   },
   "outputs": [],
   "source": [
    "accession = 'GCF_000013425.1'  # Organism Assembly"
   ]
  },
  {
   "cell_type": "code",
   "execution_count": 3,
   "metadata": {
    "hide_input": false
   },
   "outputs": [],
   "source": [
    "def annotate(accession):\n",
    "    params = {'release':accession}\n",
    "    r = requests.get(\n",
    "        'https://www.ncbi.nlm.nih.gov/projects/r_gencoll/asm4portal/gc_assembly_svc.cgi',\n",
    "        params=params)\n",
    "    if r.status_code != 200:\n",
    "        raise Exception(\"Cant find assembly\")\n",
    "    doc = r.content.decode('utf-8')\n",
    "    root = xml.fromstring(doc)\n",
    "    refseq_id = int(root.attrib['uid'])\n",
    "    header = root.find('header')\n",
    "    organism_name = header.find('species-organism').text\n",
    "\n",
    "    html = \"<h1>\" + organism_name + \"</h1>\"\n",
    "\n",
    "    nuccore_id = get_nuccore_id(refseq_id)\n",
    "\n",
    "    genes = list_genes(nuccore_id)\n",
    "\n",
    "    html += \"<h3> Genes: </h3>\"\n",
    "\n",
    "    html += \"<table>\"\n",
    "\n",
    "    max_show = 100\n",
    "    for gene in genes[0:max_show]:\n",
    "        egs = ec.efetch(db='gene', id=gene)\n",
    "        eg = egs.entrezgenes[0]\n",
    "        html += \"<tr>\"\n",
    "        prot = eg.references[0].products[0]\n",
    "        html += \"<td>\" + prot.acv + \"</td>\"\n",
    "        html += \"<td>\" + prot.label + \"</td>\"\n",
    "        html += \"</tr>\"\n",
    "    html += \"</table>\"\n",
    "\n",
    "    if len(genes) > max_show:\n",
    "        html += \"<p>And \" + str(len(genes) - max_show) + \" more... </p>\"\n",
    "\n",
    "    display(HTML(html))"
   ]
  },
  {
   "cell_type": "code",
   "execution_count": 4,
   "metadata": {},
   "outputs": [
    {
     "data": {
      "text/html": [
       "<h1>Staphylococcus aureus</h1><h3> Genes: </h3><table><tr><td>YP_008530245.1</td><td>SAOUHSC_13820</td></tr><tr><td>YP_008530244.1</td><td>membrane protein</td></tr><tr><td>YP_008530243.1</td><td>30S ribosomal protein S10</td></tr><tr><td>YP_008530242.1</td><td>membrane protein</td></tr><tr><td>YP_008530241.1</td><td>large-conductance mechanosensitive channel</td></tr><tr><td>YP_008530240.1</td><td>hypothetical protein</td></tr><tr><td>YP_008530239.1</td><td>membrane protein</td></tr><tr><td>YP_008530238.1</td><td>hypothetical protein</td></tr><tr><td>YP_500506.1</td><td>hypothetical protein</td></tr><tr><td>YP_500505.1</td><td>hypothetical protein</td></tr><tr><td>YP_500503.1</td><td>hypothetical protein</td></tr><tr><td>YP_500502.1</td><td>A/G-specific adenine glycosylase</td></tr><tr><td>YP_500501.1</td><td>hypothetical protein</td></tr><tr><td>YP_500500.1</td><td>ABC transporter ATP-binding/permease</td></tr><tr><td>YP_500499.1</td><td>hypothetical protein</td></tr><tr><td>YP_500498.1</td><td>hypothetical protein</td></tr><tr><td>YP_500497.2</td><td>glutamate-1-semialdehyde aminotransferase</td></tr><tr><td>YP_500496.1</td><td>hypothetical protein</td></tr><tr><td>YP_500495.1</td><td>hypothetical protein</td></tr><tr><td>YP_500494.1</td><td>ferric uptake regulator-like protein</td></tr></table><p>And 2852 more... </p>"
      ],
      "text/plain": [
       "<IPython.core.display.HTML object>"
      ]
     },
     "metadata": {},
     "output_type": "display_data"
    }
   ],
   "source": [
    "annotate(accession)"
   ]
  },
  {
   "cell_type": "code",
   "execution_count": null,
   "metadata": {},
   "outputs": [],
   "source": []
  }
 ],
 "metadata": {
  "kernelspec": {
   "display_name": "Python 3",
   "language": "python",
   "name": "python3"
  },
  "language_info": {
   "codemirror_mode": {
    "name": "ipython",
    "version": 3
   },
   "file_extension": ".py",
   "mimetype": "text/x-python",
   "name": "python",
   "nbconvert_exporter": "python",
   "pygments_lexer": "ipython3",
   "version": "3.5.2"
  }
 },
 "nbformat": 4,
 "nbformat_minor": 2
}
